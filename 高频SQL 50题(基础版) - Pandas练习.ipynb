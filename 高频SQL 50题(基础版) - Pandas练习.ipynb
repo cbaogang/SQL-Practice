{
 "cells": [
  {
   "cell_type": "markdown",
   "id": "81e301df",
   "metadata": {},
   "source": [
    "# [1148. 文章浏览 I](https://leetcode.cn/problems/article-views-i/)"
   ]
  },
  {
   "cell_type": "code",
   "execution_count": 1,
   "id": "ec847680",
   "metadata": {},
   "outputs": [],
   "source": [
    "import pandas as pd"
   ]
  },
  {
   "cell_type": "code",
   "execution_count": 2,
   "id": "5c64086f",
   "metadata": {},
   "outputs": [],
   "source": [
    "def article_views(Views:pd.DataFrame)->pd.DataFrame:\n",
    "    df=Views[Views['author_id']==Views['viewer_id']]\n",
    "    df.drop_duplicates(subset=['author_id'],inplace=True)\n",
    "    df.sort_values(by=['author_id'],inplace=True)\n",
    "    df.rename(columns={'author_id':'id'},inplace=True)\n",
    "    df=df[['id']]\n",
    "    return df,views.copy() "
   ]
  },
  {
   "cell_type": "code",
   "execution_count": 3,
   "id": "086b7109",
   "metadata": {},
   "outputs": [],
   "source": [
    "data = {\n",
    "    'article_id': [1, 1, 2, 2, 4, 3, 3],\n",
    "    'author_id': [3, 3, 7, 7, 7, 4, 4],\n",
    "    'viewer_id': [5, 6, 7, 6, 1, 4, 4],\n",
    "    'view_date': ['2019-08-01', '2019-08-02', '2019-08-01', '2019-08-02', '2019-07-22', '2019-07-21', '2019-07-21']\n",
    "}\n",
    "\n",
    "Views=pd.DataFrame(data)"
   ]
  },
  {
   "cell_type": "code",
   "execution_count": 18,
   "id": "3f272f2f",
   "metadata": {},
   "outputs": [
    {
     "name": "stdout",
     "output_type": "stream",
     "text": [
      "Modified DataFrame:\n",
      "   id\n",
      "5   4\n",
      "2   7\n",
      "\n",
      "Original DataFrame:\n",
      "   article_id  author_id  viewer_id   view_date\n",
      "0           1          3          5  2019-08-01\n",
      "1           1          3          6  2019-08-02\n",
      "2           2          7          7  2019-08-01\n",
      "3           2          7          6  2019-08-02\n",
      "4           4          7          1  2019-07-22\n",
      "5           3          4          4  2019-07-21\n",
      "6           3          4          4  2019-07-21\n"
     ]
    },
    {
     "name": "stderr",
     "output_type": "stream",
     "text": [
      "C:\\Users\\kylec\\AppData\\Local\\Temp\\ipykernel_27316\\1408024099.py:3: SettingWithCopyWarning: \n",
      "A value is trying to be set on a copy of a slice from a DataFrame\n",
      "\n",
      "See the caveats in the documentation: https://pandas.pydata.org/pandas-docs/stable/user_guide/indexing.html#returning-a-view-versus-a-copy\n",
      "  df.drop_duplicates(subset=['author_id'],inplace=True)\n",
      "C:\\Users\\kylec\\AppData\\Local\\Temp\\ipykernel_27316\\1408024099.py:4: SettingWithCopyWarning: \n",
      "A value is trying to be set on a copy of a slice from a DataFrame\n",
      "\n",
      "See the caveats in the documentation: https://pandas.pydata.org/pandas-docs/stable/user_guide/indexing.html#returning-a-view-versus-a-copy\n",
      "  df.sort_values(by=['author_id'],inplace=True)\n",
      "C:\\Users\\kylec\\AppData\\Local\\Temp\\ipykernel_27316\\1408024099.py:5: SettingWithCopyWarning: \n",
      "A value is trying to be set on a copy of a slice from a DataFrame\n",
      "\n",
      "See the caveats in the documentation: https://pandas.pydata.org/pandas-docs/stable/user_guide/indexing.html#returning-a-view-versus-a-copy\n",
      "  df.rename(columns={'author_id':'id'},inplace=True)\n"
     ]
    }
   ],
   "source": [
    "# Applying the modified function\n",
    "modified_df, original_df = article_views(views)\n",
    "\n",
    "# Print the results\n",
    "print(\"Modified DataFrame:\")\n",
    "print(modified_df)\n",
    "\n",
    "print(\"\\nOriginal DataFrame:\")\n",
    "print(original_df)"
   ]
  },
  {
   "cell_type": "markdown",
   "id": "acc5930d",
   "metadata": {},
   "source": [
    "# [595. 大的国家](https://leetcode.cn/problems/big-countries/)\n"
   ]
  },
  {
   "cell_type": "code",
   "execution_count": 19,
   "id": "369dc22e",
   "metadata": {},
   "outputs": [],
   "source": [
    "def big_countries(Word:pd.DataFrame)->pd.DataFrame:\n",
    "    df=World[(World['area']>=3000000)|(World['population']>=25000000)]\n",
    "    return df[['name','population','area']]"
   ]
  },
  {
   "cell_type": "code",
   "execution_count": 20,
   "id": "207947be",
   "metadata": {},
   "outputs": [],
   "source": [
    "data = {\n",
    "    'name': ['Afghanistan', 'Albania', 'Algeria', 'Andorra', 'Angola'],\n",
    "    'continent': ['Asia', 'Europe', 'Africa', 'Europe', 'Africa'],\n",
    "    'area': [652230, 28748, 2381741, 468, 1246700],\n",
    "    'population': [25500100, 2831741, 37100000, 78115, 20609294],\n",
    "    'gdp': [20343000000, 12960000000, 188681000000, 3712000000, 100990000000]\n",
    "}\n",
    "\n",
    "World = pd.DataFrame(data)"
   ]
  },
  {
   "cell_type": "code",
   "execution_count": 21,
   "id": "705f650d",
   "metadata": {},
   "outputs": [
    {
     "name": "stdout",
     "output_type": "stream",
     "text": [
      "          name  population     area\n",
      "0  Afghanistan    25500100   652230\n",
      "2      Algeria    37100000  2381741\n"
     ]
    }
   ],
   "source": [
    "result = big_countries(World)\n",
    "print(result)"
   ]
  },
  {
   "cell_type": "markdown",
   "id": "b9218abe",
   "metadata": {},
   "source": [
    "# [1683. 无效的推文](https://leetcode.cn/problems/invalid-tweets/)"
   ]
  },
  {
   "cell_type": "code",
   "execution_count": 33,
   "id": "62bff843",
   "metadata": {},
   "outputs": [],
   "source": [
    "import pandas as pd\n",
    "\n",
    "def invalid_tweet(tweet:pd.DataFrame)->pd.DataFrame:\n",
    "    is_valid=tweet['content'].str.len()>15\n",
    "    df=tweet[is_valid]\n",
    "    return df[['tweet_id']]"
   ]
  },
  {
   "cell_type": "code",
   "execution_count": 34,
   "id": "9c3b76c6",
   "metadata": {},
   "outputs": [],
   "source": [
    "data = {\n",
    "    'tweet_id':[1,2],\n",
    "    'content':['Vote for Biden','Let us make America great again!']\n",
    "}\n",
    "\n",
    "tweet=pd.DataFrame(data)"
   ]
  },
  {
   "cell_type": "code",
   "execution_count": 35,
   "id": "f3f52271",
   "metadata": {},
   "outputs": [
    {
     "name": "stdout",
     "output_type": "stream",
     "text": [
      "   tweet_id\n",
      "1         2\n"
     ]
    }
   ],
   "source": [
    "result=invalid_tweet(tweet)\n",
    "print(result)"
   ]
  },
  {
   "cell_type": "code",
   "execution_count": null,
   "id": "11deaf57",
   "metadata": {},
   "outputs": [],
   "source": []
  }
 ],
 "metadata": {
  "kernelspec": {
   "display_name": "Python 3 (ipykernel)",
   "language": "python",
   "name": "python3"
  },
  "language_info": {
   "codemirror_mode": {
    "name": "ipython",
    "version": 3
   },
   "file_extension": ".py",
   "mimetype": "text/x-python",
   "name": "python",
   "nbconvert_exporter": "python",
   "pygments_lexer": "ipython3",
   "version": "3.10.9"
  }
 },
 "nbformat": 4,
 "nbformat_minor": 5
}
